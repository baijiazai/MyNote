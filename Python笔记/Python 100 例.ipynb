{
 "cells": [
  {
   "cell_type": "markdown",
   "metadata": {},
   "source": [
    "# 一、Python 基础 62 例 "
   ]
  },
  {
   "cell_type": "code",
   "execution_count": 1,
   "metadata": {},
   "outputs": [
    {
     "data": {
      "text/plain": [
       "'0b1010'"
      ]
     },
     "execution_count": 1,
     "metadata": {},
     "output_type": "execute_result"
    }
   ],
   "source": [
    "# 1.十转二 - 将十进制转换为二进制\n",
    "bin(10)"
   ]
  },
  {
   "cell_type": "code",
   "execution_count": 2,
   "metadata": {},
   "outputs": [
    {
     "data": {
      "text/plain": [
       "'0o11'"
      ]
     },
     "execution_count": 2,
     "metadata": {},
     "output_type": "execute_result"
    }
   ],
   "source": [
    "# 2.十转八 - 十进制转换为八进制\n",
    "oct(9)"
   ]
  },
  {
   "cell_type": "code",
   "execution_count": 3,
   "metadata": {},
   "outputs": [
    {
     "data": {
      "text/plain": [
       "'0xf'"
      ]
     },
     "execution_count": 3,
     "metadata": {},
     "output_type": "execute_result"
    }
   ],
   "source": [
    "# 3.十转十六 - 十进制转换为十六进制\n",
    "hex(15)"
   ]
  },
  {
   "cell_type": "code",
   "execution_count": 4,
   "metadata": {},
   "outputs": [
    {
     "data": {
      "text/plain": [
       "b'python'"
      ]
     },
     "execution_count": 4,
     "metadata": {},
     "output_type": "execute_result"
    }
   ],
   "source": [
    "# 4.字符串转字节 - 字符串转字节类型\n",
    "bytes('python', encoding='utf-8')"
   ]
  },
  {
   "cell_type": "code",
   "execution_count": 5,
   "metadata": {},
   "outputs": [
    {
     "data": {
      "text/plain": [
       "'100'"
      ]
     },
     "execution_count": 5,
     "metadata": {},
     "output_type": "execute_result"
    }
   ],
   "source": [
    "# 5.转为字符串 - 字符类型、数值型等转换为字符串类型\n",
    "str(100)"
   ]
  },
  {
   "cell_type": "code",
   "execution_count": 6,
   "metadata": {},
   "outputs": [
    {
     "data": {
      "text/plain": [
       "'A'"
      ]
     },
     "execution_count": 6,
     "metadata": {},
     "output_type": "execute_result"
    }
   ],
   "source": [
    "# 6.十转ASCII - ASCII字符对应的十进制数\n",
    "chr(65)"
   ]
  },
  {
   "cell_type": "code",
   "execution_count": 7,
   "metadata": {},
   "outputs": [
    {
     "data": {
      "text/plain": [
       "65"
      ]
     },
     "execution_count": 7,
     "metadata": {},
     "output_type": "execute_result"
    }
   ],
   "source": [
    "# 7.ASSCII转十 - ASCII字符对应的十进制数\n",
    "ord('A')"
   ]
  },
  {
   "cell_type": "code",
   "execution_count": 8,
   "metadata": {},
   "outputs": [
    {
     "data": {
      "text/plain": [
       "{}"
      ]
     },
     "metadata": {},
     "output_type": "display_data"
    },
    {
     "data": {
      "text/plain": [
       "{'a': 'A', 'b': 'B'}"
      ]
     },
     "metadata": {},
     "output_type": "display_data"
    },
    {
     "data": {
      "text/plain": [
       "{'a': 1, 'b': 2}"
      ]
     },
     "metadata": {},
     "output_type": "display_data"
    },
    {
     "data": {
      "text/plain": [
       "{'a': 1, 'b': 2}"
      ]
     },
     "metadata": {},
     "output_type": "display_data"
    }
   ],
   "source": [
    "# 8.转为字典 - 创建数据字典的几种方法\n",
    "d1 = dict()\n",
    "d2 = dict(a='A', b='B')\n",
    "d3 = dict(zip(['a', 'b'], [1, 2]))\n",
    "d4 = dict([('a', 1), ('b', 2)])\n",
    "display(d1, d2, d3, d4)"
   ]
  },
  {
   "cell_type": "code",
   "execution_count": 9,
   "metadata": {},
   "outputs": [
    {
     "data": {
      "text/plain": [
       "3.0"
      ]
     },
     "execution_count": 9,
     "metadata": {},
     "output_type": "execute_result"
    }
   ],
   "source": [
    "# 9.转为浮点类型 - 整数或数值型字符串转换为浮点数\n",
    "float(3)"
   ]
  },
  {
   "cell_type": "code",
   "execution_count": 10,
   "metadata": {},
   "outputs": [
    {
     "data": {
      "text/plain": [
       "18"
      ]
     },
     "execution_count": 10,
     "metadata": {},
     "output_type": "execute_result"
    }
   ],
   "source": [
    "# 10.转为整数\n",
    "# base为进制，默认为十进制\n",
    "int('12', base=16)"
   ]
  },
  {
   "cell_type": "code",
   "execution_count": 11,
   "metadata": {},
   "outputs": [
    {
     "data": {
      "text/plain": [
       "{1, 2, 3}"
      ]
     },
     "execution_count": 11,
     "metadata": {},
     "output_type": "execute_result"
    }
   ],
   "source": [
    "# 11.转为集合 - 返回一个 set 对象，集合内不允许有重复元素\n",
    "set([1, 2, 3, 2, 1, 1])"
   ]
  },
  {
   "cell_type": "code",
   "execution_count": 12,
   "metadata": {},
   "outputs": [
    {
     "data": {
      "text/plain": [
       "[1, 3, 3]"
      ]
     },
     "execution_count": 12,
     "metadata": {},
     "output_type": "execute_result"
    }
   ],
   "source": [
    "# 12.转为切片\n",
    "\"\"\"\n",
    "class slice(start, stop[, step]):\n",
    "    返回一个由 range(start, stop, step) 指定索引集的 slice 对象\n",
    "    代码可读性变好\n",
    "\"\"\"\n",
    "a = [1, 2, 3, 4, 3, 2, 1]\n",
    "my_slice = slice(0, 5, 2)\n",
    "a[my_slice]"
   ]
  },
  {
   "cell_type": "code",
   "execution_count": 13,
   "metadata": {},
   "outputs": [
    {
     "data": {
      "text/plain": [
       "(1, 4, 7)"
      ]
     },
     "execution_count": 13,
     "metadata": {},
     "output_type": "execute_result"
    }
   ],
   "source": [
    "# 13.转元组 - 将对象转为一个不可变的序列类型\n",
    "tuple([1, 4, 7])"
   ]
  },
  {
   "cell_type": "code",
   "execution_count": 14,
   "metadata": {},
   "outputs": [
    {
     "data": {
      "text/plain": [
       "frozenset({1, 2, 3})"
      ]
     },
     "execution_count": 14,
     "metadata": {},
     "output_type": "execute_result"
    }
   ],
   "source": [
    "# 14.转冻结集合 - 创建不可修改的集合\n",
    "frozenset([1, 1, 1, 2, 2, 3])"
   ]
  },
  {
   "cell_type": "code",
   "execution_count": 15,
   "metadata": {},
   "outputs": [
    {
     "data": {
      "text/plain": [
       "(3, 1)"
      ]
     },
     "execution_count": 15,
     "metadata": {},
     "output_type": "execute_result"
    }
   ],
   "source": [
    "# 15.商和余数 - 分别取商和余数\n",
    "divmod(10, 3)"
   ]
  },
  {
   "cell_type": "code",
   "execution_count": 16,
   "metadata": {},
   "outputs": [
    {
     "data": {
      "text/plain": [
       "1"
      ]
     },
     "execution_count": 16,
     "metadata": {},
     "output_type": "execute_result"
    }
   ],
   "source": [
    "# 16.幂和余同时做\n",
    "\"\"\"\n",
    "    pow(x, y, z=None)\n",
    "    x 为原数，y 为幂，z 为求余\n",
    "\"\"\"\n",
    "pow(3, 2, 4)"
   ]
  },
  {
   "cell_type": "code",
   "execution_count": 17,
   "metadata": {},
   "outputs": [
    {
     "data": {
      "text/plain": [
       "3.14"
      ]
     },
     "execution_count": 17,
     "metadata": {},
     "output_type": "execute_result"
    }
   ],
   "source": [
    "# 17.四舍五入\n",
    "round(3.14159265, 2)"
   ]
  },
  {
   "cell_type": "code",
   "execution_count": 18,
   "metadata": {},
   "outputs": [
    {
     "data": {
      "text/plain": [
       "240"
      ]
     },
     "execution_count": 18,
     "metadata": {},
     "output_type": "execute_result"
    }
   ],
   "source": [
    "# 18.查看变量所占字节数\n",
    "import sys\n",
    "d = {'a': 1, 'b': 2.0, 'c': 'C'}\n",
    "sys.getsizeof(d)"
   ]
  },
  {
   "cell_type": "code",
   "execution_count": 19,
   "metadata": {},
   "outputs": [
    {
     "data": {
      "text/plain": [
       "2730289735048"
      ]
     },
     "execution_count": 19,
     "metadata": {},
     "output_type": "execute_result"
    }
   ],
   "source": [
    "# 19.内存地址\n",
    "class Student():\n",
    "    def __init__(self, id, name):\n",
    "        self.id = id\n",
    "        self.name = name\n",
    "        \n",
    "        \n",
    "zhang = Student('007', 'zhangsan')\n",
    "id(zhang)"
   ]
  },
  {
   "cell_type": "code",
   "execution_count": 20,
   "metadata": {},
   "outputs": [
    {
     "data": {
      "text/plain": [
       "[9, 8, 7, 6, 5, 4, 3, 2, 1]"
      ]
     },
     "metadata": {},
     "output_type": "display_data"
    },
    {
     "data": {
      "text/plain": [
       "[{'name': 'wang', 'age': 39},\n",
       " {'name': 'zhang', 'age': 28},\n",
       " {'name': 'li', 'age': 17}]"
      ]
     },
     "metadata": {},
     "output_type": "display_data"
    }
   ],
   "source": [
    "# 20.排序函数\n",
    "n = [1, 4, 7, 2, 5, 8, 3, 6, 9]\n",
    "nn = sorted(n, reverse=True)\n",
    "\n",
    "d = [\n",
    "    {'name': 'zhang', 'age': 28},\n",
    "    {'name': 'li', 'age': 17},\n",
    "    {'name': 'wang', 'age': 39},\n",
    "]\n",
    "dd = sorted(d, key=lambda x: x['age'], reverse=True)\n",
    "\n",
    "display(nn, dd)"
   ]
  },
  {
   "cell_type": "code",
   "execution_count": 21,
   "metadata": {},
   "outputs": [
    {
     "data": {
      "text/plain": [
       "15"
      ]
     },
     "execution_count": 21,
     "metadata": {},
     "output_type": "execute_result"
    }
   ],
   "source": [
    "# 21.求和函数\n",
    "sum([2, 5, 8])"
   ]
  },
  {
   "cell_type": "code",
   "execution_count": 22,
   "metadata": {},
   "outputs": [
    {
     "data": {
      "text/plain": [
       "12"
      ]
     },
     "execution_count": 22,
     "metadata": {},
     "output_type": "execute_result"
    }
   ],
   "source": [
    "# 22.计算表达式\n",
    "eval('1 + 4 + 7')"
   ]
  },
  {
   "cell_type": "code",
   "execution_count": 23,
   "metadata": {},
   "outputs": [
    {
     "data": {
      "text/plain": [
       "False"
      ]
     },
     "metadata": {},
     "output_type": "display_data"
    },
    {
     "data": {
      "text/plain": [
       "False"
      ]
     },
     "metadata": {},
     "output_type": "display_data"
    },
    {
     "data": {
      "text/plain": [
       "False"
      ]
     },
     "metadata": {},
     "output_type": "display_data"
    },
    {
     "data": {
      "text/plain": [
       "False"
      ]
     },
     "metadata": {},
     "output_type": "display_data"
    },
    {
     "data": {
      "text/plain": [
       "True"
      ]
     },
     "metadata": {},
     "output_type": "display_data"
    },
    {
     "data": {
      "text/plain": [
       "True"
      ]
     },
     "metadata": {},
     "output_type": "display_data"
    }
   ],
   "source": [
    "# 23.真假\n",
    "b1 = bool(0)\n",
    "b2 = bool(False)\n",
    "b3 = bool(None)\n",
    "b4 = bool([])\n",
    "b5 = bool([False])\n",
    "b6 = bool([0, 0, 0])\n",
    "\n",
    "display(b1, b2, b3, b4, b5, b6)"
   ]
  },
  {
   "cell_type": "code",
   "execution_count": 24,
   "metadata": {},
   "outputs": [
    {
     "data": {
      "text/plain": [
       "False"
      ]
     },
     "metadata": {},
     "output_type": "display_data"
    },
    {
     "data": {
      "text/plain": [
       "True"
      ]
     },
     "metadata": {},
     "output_type": "display_data"
    }
   ],
   "source": [
    "# 24.都为真\n",
    "b1 = all([1, 0, 3, 5])\n",
    "b2 = all([3, 6, 9])\n",
    "\n",
    "display(b1, b2)"
   ]
  },
  {
   "cell_type": "code",
   "execution_count": 25,
   "metadata": {},
   "outputs": [
    {
     "data": {
      "text/plain": [
       "False"
      ]
     },
     "metadata": {},
     "output_type": "display_data"
    },
    {
     "data": {
      "text/plain": [
       "True"
      ]
     },
     "metadata": {},
     "output_type": "display_data"
    }
   ],
   "source": [
    "# 25.至少一个为真\n",
    "b1 = any([0, False, [], None])\n",
    "b2 = any([1, False, None])\n",
    "\n",
    "display(b1, b2)"
   ]
  },
  {
   "cell_type": "code",
   "execution_count": 26,
   "metadata": {},
   "outputs": [
    {
     "name": "stdout",
     "output_type": "stream",
     "text": [
      "python\n"
     ]
    },
    {
     "data": {
      "text/plain": [
       "'python'"
      ]
     },
     "execution_count": 26,
     "metadata": {},
     "output_type": "execute_result"
    }
   ],
   "source": [
    "# 26.获取用户输入\n",
    "input()"
   ]
  },
  {
   "cell_type": "code",
   "execution_count": 27,
   "metadata": {},
   "outputs": [
    {
     "name": "stdout",
     "output_type": "stream",
     "text": [
      "list:[1, 2, 3]\n",
      "list:[1, 2, 3]\n",
      "list:[1, 2, 3]\n"
     ]
    }
   ],
   "source": [
    "# 27.print 格式化输出\n",
    "l = [1, 2, 3]\n",
    "print(f'list:{l}')\n",
    "print('list:{}'.format(l))\n",
    "print('list:%s' % l)"
   ]
  },
  {
   "cell_type": "code",
   "execution_count": 28,
   "metadata": {},
   "outputs": [
    {
     "name": "stdout",
     "output_type": "stream",
     "text": [
      "i am boy, age 20\n",
      "3.14\n",
      "-1.00\n",
      "005\n",
      "31,415,926\n",
      "85.70%\n",
      "3.14e+07\n"
     ]
    }
   ],
   "source": [
    "# 28.字符串格式化\n",
    "print('i am {0}, age {1}'.format('boy', 20))\n",
    "# 保留小数点后2位\n",
    "print('{:.2f}'.format(3.1415926))\n",
    "# 带符号保留小数点后2位\n",
    "print('{:+.2f}'.format(-1))\n",
    "# 整数补零,填充左边，宽度为3\n",
    "print('{:0>3d}'.format(5))\n",
    "# 以逗号分隔的数字格式\n",
    "print('{:,}'.format(31415926))\n",
    "# 百分比格式\n",
    "print('{:.2%}'.format(0.857))\n",
    "# 指数记法\n",
    "print('{:.2e}'.format(31415926))"
   ]
  },
  {
   "cell_type": "code",
   "execution_count": 29,
   "metadata": {},
   "outputs": [
    {
     "data": {
      "text/plain": [
       "-9223371866211664744"
      ]
     },
     "execution_count": 29,
     "metadata": {},
     "output_type": "execute_result"
    }
   ],
   "source": [
    "# 29.返回对象哈希值\n",
    "class Student():\n",
    "    def __init__(self, id, name):\n",
    "        self.id = id\n",
    "        self.name = name\n",
    "        \n",
    "        \n",
    "zhang = Student('007', 'zhangsan')\n",
    "hash(zhang)"
   ]
  },
  {
   "cell_type": "code",
   "execution_count": 30,
   "metadata": {},
   "outputs": [],
   "source": [
    "# 30.编写文件\n",
    "import os\n",
    "\n",
    "with open('newfile.txt', mode='w', encoding='utf-8') as fw:\n",
    "    fw.write('hello world.')"
   ]
  },
  {
   "cell_type": "markdown",
   "metadata": {},
   "source": [
    "mode 取值表：\n",
    "\n",
    "|字符|意义|\n",
    "|:-:|:--|\n",
    "|r|读取（默认）|\n",
    "|w|写入，并覆盖原本的文件|\n",
    "|x|创建文件，如果文件已存在则失败|\n",
    "|a|写入，在文件末尾追加|\n",
    "|b|二进制模式|\n",
    "|t|文本模式（默认）|\n",
    "|+|打开用于更新（读取与写入）|"
   ]
  },
  {
   "cell_type": "code",
   "execution_count": 31,
   "metadata": {},
   "outputs": [
    {
     "data": {
      "text/plain": [
       "str"
      ]
     },
     "execution_count": 31,
     "metadata": {},
     "output_type": "execute_result"
    }
   ],
   "source": [
    "# 31.查看对象类型\n",
    "type('hello')"
   ]
  },
  {
   "cell_type": "code",
   "execution_count": 32,
   "metadata": {},
   "outputs": [
    {
     "data": {
      "text/plain": [
       "1"
      ]
     },
     "metadata": {},
     "output_type": "display_data"
    },
    {
     "data": {
      "text/plain": [
       "2"
      ]
     },
     "metadata": {},
     "output_type": "display_data"
    }
   ],
   "source": [
    "# 32.两种创建属性方法\n",
    "# 返回 property 属性，典型的用法：\n",
    "class C:\n",
    "    def __init__(self):\n",
    "        self._x = None\n",
    "        \n",
    "    def get_x(self):\n",
    "        return self._x\n",
    "    \n",
    "    def set_x(self, value):\n",
    "        self._x = value\n",
    "        \n",
    "    def del_x(self):\n",
    "        del self._x\n",
    "        \n",
    "    # 使用 property 类创建 property 属性\n",
    "    x = property(get_x, set_x, del_x, \"I'm the 'x' property.\")\n",
    "    \n",
    "    \n",
    "C().x = 1\n",
    "c = C()\n",
    "c.x = 1\n",
    "res1 = c.get_x()\n",
    "\n",
    "# 使用 @property 装饰器实现\n",
    "class D:\n",
    "    def __init__(self):\n",
    "        self._y = None\n",
    "        \n",
    "    @property\n",
    "    def y(self):\n",
    "        return self._y\n",
    "    \n",
    "    @y.setter\n",
    "    def y(self, value):\n",
    "        self._y = value\n",
    "        \n",
    "    @y.deleter\n",
    "    def y(self):\n",
    "        del self._y\n",
    "        \n",
    "D().y = 2\n",
    "d = D()\n",
    "d.y = 2\n",
    "res2 = d.y\n",
    "\n",
    "display(res1, res2)"
   ]
  },
  {
   "cell_type": "code",
   "execution_count": 33,
   "metadata": {},
   "outputs": [
    {
     "data": {
      "text/plain": [
       "True"
      ]
     },
     "metadata": {},
     "output_type": "display_data"
    },
    {
     "data": {
      "text/plain": [
       "False"
      ]
     },
     "metadata": {},
     "output_type": "display_data"
    }
   ],
   "source": [
    "# 33.判断对象是否可调用\n",
    "b1 = callable(str)\n",
    "\n",
    "\n",
    "class Student():\n",
    "    def __init__(self, id, name):\n",
    "        self.id = id\n",
    "        self.name = name\n",
    "        \n",
    "\n",
    "zhang = Student('007', 'zhangsan')\n",
    "b2 = callable(zhang)\n",
    "\n",
    "display(b1, b2)"
   ]
  },
  {
   "cell_type": "code",
   "execution_count": 34,
   "metadata": {},
   "outputs": [
    {
     "data": {
      "text/plain": [
       "False"
      ]
     },
     "execution_count": 34,
     "metadata": {},
     "output_type": "execute_result"
    }
   ],
   "source": [
    "# 34.动态删除属性\n",
    "class Student():\n",
    "    def __init__(self, id, name):\n",
    "        self.id = id\n",
    "        self.name = name\n",
    "        \n",
    "        \n",
    "zhang = Student('007', 'zhangsan')\n",
    "delattr(zhang, 'id')\n",
    "hasattr(zhang, 'id')"
   ]
  },
  {
   "cell_type": "code",
   "execution_count": 35,
   "metadata": {},
   "outputs": [
    {
     "data": {
      "text/plain": [
       "'zhangsan'"
      ]
     },
     "execution_count": 35,
     "metadata": {},
     "output_type": "execute_result"
    }
   ],
   "source": [
    "# 35.动态获取对象属性\n",
    "class Student():\n",
    "    def __init__(self, id, name):\n",
    "        self.id = id\n",
    "        self.name = name\n",
    "        \n",
    "        \n",
    "zhang = Student('007', 'zhangsan')\n",
    "getattr(zhang, 'name')"
   ]
  },
  {
   "cell_type": "code",
   "execution_count": 36,
   "metadata": {},
   "outputs": [
    {
     "data": {
      "text/plain": [
       "'zhangsan'"
      ]
     },
     "metadata": {},
     "output_type": "display_data"
    },
    {
     "data": {
      "text/plain": [
       "True"
      ]
     },
     "metadata": {},
     "output_type": "display_data"
    },
    {
     "data": {
      "text/plain": [
       "False"
      ]
     },
     "metadata": {},
     "output_type": "display_data"
    }
   ],
   "source": [
    "# 36.对象是否有某个属性\n",
    "class Student():\n",
    "    def __init__(self, id, name):\n",
    "        self.id = id\n",
    "        self.name = name\n",
    "        \n",
    "        \n",
    "zhang = Student('007', 'zhangsan')\n",
    "h1 = getattr(zhang, 'name')\n",
    "h2 = hasattr(zhang, 'id')\n",
    "h3 = hasattr(zhang, 'age')\n",
    "\n",
    "display(h1, h2, h3)"
   ]
  },
  {
   "cell_type": "code",
   "execution_count": 37,
   "metadata": {},
   "outputs": [
    {
     "data": {
      "text/plain": [
       "True"
      ]
     },
     "execution_count": 37,
     "metadata": {},
     "output_type": "execute_result"
    }
   ],
   "source": [
    "# 37.isinstance - 判断 object 是否为 classinfo 的实例，是返回True\n",
    "class Student():\n",
    "    def __init__(self, id, name):\n",
    "        self.id = id\n",
    "        self.name = name\n",
    "        \n",
    "        \n",
    "zhang = Student('007', 'zhangsan')\n",
    "isinstance(zhang, Student)"
   ]
  },
  {
   "cell_type": "code",
   "execution_count": 38,
   "metadata": {},
   "outputs": [
    {
     "data": {
      "text/plain": [
       "True"
      ]
     },
     "execution_count": 38,
     "metadata": {},
     "output_type": "execute_result"
    }
   ],
   "source": [
    "# 38.父子关系鉴定\n",
    "class Student():\n",
    "    def __init__(self, id, name):\n",
    "        self.id = id\n",
    "        self.name = name\n",
    "        \n",
    "        \n",
    "class Grade(Student):\n",
    "    pass\n",
    "\n",
    "\n",
    "# 判断 Grade 类是否为 Student 的子类\n",
    "issubclass(Grade, Student)"
   ]
  },
  {
   "cell_type": "code",
   "execution_count": 39,
   "metadata": {},
   "outputs": [
    {
     "data": {
      "text/plain": [
       "True"
      ]
     },
     "execution_count": 39,
     "metadata": {},
     "output_type": "execute_result"
    }
   ],
   "source": [
    "# 39.所有对象之根\n",
    "isinstance(1, object)"
   ]
  },
  {
   "cell_type": "code",
   "execution_count": 40,
   "metadata": {},
   "outputs": [
    {
     "data": {
      "text/plain": [
       "['__class__',\n",
       " '__delattr__',\n",
       " '__dict__',\n",
       " '__dir__',\n",
       " '__doc__',\n",
       " '__eq__',\n",
       " '__format__',\n",
       " '__ge__',\n",
       " '__getattribute__',\n",
       " '__gt__',\n",
       " '__hash__',\n",
       " '__init__',\n",
       " '__init_subclass__',\n",
       " '__le__',\n",
       " '__lt__',\n",
       " '__module__',\n",
       " '__ne__',\n",
       " '__new__',\n",
       " '__reduce__',\n",
       " '__reduce_ex__',\n",
       " '__repr__',\n",
       " '__setattr__',\n",
       " '__sizeof__',\n",
       " '__str__',\n",
       " '__subclasshook__',\n",
       " '__weakref__',\n",
       " 'id',\n",
       " 'name']"
      ]
     },
     "execution_count": 40,
     "metadata": {},
     "output_type": "execute_result"
    }
   ],
   "source": [
    "# 40.一键查看对象所有方法\n",
    "class Student():\n",
    "    def __init__(self, id, name):\n",
    "        self.id = id\n",
    "        self.name = name\n",
    "        \n",
    "        \n",
    "zhang = Student('007', 'zhangsan')\n",
    "dir(zhang)"
   ]
  },
  {
   "cell_type": "code",
   "execution_count": 41,
   "metadata": {},
   "outputs": [
    {
     "name": "stdout",
     "output_type": "stream",
     "text": [
      "0 a\n",
      "1 b\n",
      "2 c\n"
     ]
    }
   ],
   "source": [
    "# 41.枚举对象\n",
    "s = ['a', 'b', 'c']\n",
    "for i, v in enumerate(s):\n",
    "    print(i, v)"
   ]
  },
  {
   "cell_type": "code",
   "execution_count": 42,
   "metadata": {},
   "outputs": [
    {
     "name": "stdout",
     "output_type": "stream",
     "text": [
      "1\n",
      "4\n",
      "7\n",
      "2\n",
      "5\n",
      "8\n"
     ]
    }
   ],
   "source": [
    "# 42.创建迭代器\n",
    "class TestIter():\n",
    "    def __init__(self, L):\n",
    "        self.L = L\n",
    "        \n",
    "    # 重写可迭代协议 __iter__\n",
    "    def __iter__(self):\n",
    "        return iter(self.L)\n",
    "    \n",
    "t = TestIter([1, 4, 7, 2, 5, 8])\n",
    "for i in t:\n",
    "    print(i)"
   ]
  },
  {
   "cell_type": "code",
   "execution_count": 43,
   "metadata": {},
   "outputs": [
    {
     "name": "stdout",
     "output_type": "stream",
     "text": [
      "0\n",
      "1\n",
      "2\n",
      "3\n",
      "4\n",
      "5\n",
      "6\n",
      "7\n"
     ]
    }
   ],
   "source": [
    "# 43.创建 range 迭代器\n",
    "t = range(8)\n",
    "for i in t:\n",
    "    print(i)"
   ]
  },
  {
   "cell_type": "code",
   "execution_count": 44,
   "metadata": {},
   "outputs": [
    {
     "name": "stdout",
     "output_type": "stream",
     "text": [
      "8\n",
      "5\n",
      "2\n",
      "7\n",
      "4\n",
      "1\n"
     ]
    }
   ],
   "source": [
    "# 44.反向\n",
    "rev = reversed([1, 4, 7, 2, 5, 8])\n",
    "for i in rev:\n",
    "    print(i)"
   ]
  },
  {
   "cell_type": "code",
   "execution_count": 45,
   "metadata": {},
   "outputs": [
    {
     "name": "stdout",
     "output_type": "stream",
     "text": [
      "a 3\n",
      "b 2\n",
      "c 1\n"
     ]
    }
   ],
   "source": [
    "# 45.打包 - 聚合各个可迭代对象的迭代器\n",
    "x = [3, 2, 1]\n",
    "y = ['a', 'b', 'c']\n",
    "for k, v in zip(y, x):\n",
    "    print(k, v)"
   ]
  },
  {
   "cell_type": "code",
   "execution_count": 46,
   "metadata": {},
   "outputs": [
    {
     "name": "stdout",
     "output_type": "stream",
     "text": [
      "18\n",
      "20\n"
     ]
    }
   ],
   "source": [
    "# 46.过滤器\n",
    "fil = filter(lambda x: x >= 18, [6, 12, 15, 18, 20])\n",
    "for i in fil:\n",
    "    print(i)"
   ]
  },
  {
   "cell_type": "code",
   "execution_count": 47,
   "metadata": {},
   "outputs": [
    {
     "data": {
      "text/plain": [
       "True"
      ]
     },
     "execution_count": 47,
     "metadata": {},
     "output_type": "execute_result"
    }
   ],
   "source": [
    "# 47.链式比较\n",
    "i = 20\n",
    "18 <= i <= 35"
   ]
  },
  {
   "cell_type": "code",
   "execution_count": 48,
   "metadata": {},
   "outputs": [
    {
     "data": {
      "text/plain": [
       "-1"
      ]
     },
     "execution_count": 48,
     "metadata": {},
     "output_type": "execute_result"
    }
   ],
   "source": [
    "# 48.链式操作\n",
    "from operator import add, sub\n",
    "\n",
    "\n",
    "def add_or_sub(a, b, op):\n",
    "    return (add if op == '+' else sub)(a, b)\n",
    "\n",
    "\n",
    "add_or_sub(1, 2, '-')"
   ]
  },
  {
   "cell_type": "code",
   "execution_count": 49,
   "metadata": {},
   "outputs": [
    {
     "data": {
      "text/plain": [
       "['I', 'love', 'python']"
      ]
     },
     "execution_count": 49,
     "metadata": {},
     "output_type": "execute_result"
    }
   ],
   "source": [
    "# 49.split 分割\n",
    "'I love python'.split(' ')"
   ]
  },
  {
   "cell_type": "code",
   "execution_count": 50,
   "metadata": {},
   "outputs": [
    {
     "data": {
      "text/plain": [
       "'I like python'"
      ]
     },
     "execution_count": 50,
     "metadata": {},
     "output_type": "execute_result"
    }
   ],
   "source": [
    "# 50.replace 替换\n",
    "'I love python'.replace('love', 'like')"
   ]
  },
  {
   "cell_type": "code",
   "execution_count": 51,
   "metadata": {},
   "outputs": [
    {
     "data": {
      "text/plain": [
       "'nohtyp'"
      ]
     },
     "execution_count": 51,
     "metadata": {},
     "output_type": "execute_result"
    }
   ],
   "source": [
    "# 51.反转字符串\n",
    "''.join(reversed('python'))"
   ]
  },
  {
   "cell_type": "code",
   "execution_count": 52,
   "metadata": {},
   "outputs": [
    {
     "data": {
      "text/plain": [
       "1595492057.0693932"
      ]
     },
     "execution_count": 52,
     "metadata": {},
     "output_type": "execute_result"
    }
   ],
   "source": [
    "# 52.使用time模块打印当前时间\n",
    "import time\n",
    "\n",
    "second = time.time()\n",
    "second"
   ]
  },
  {
   "cell_type": "code",
   "execution_count": 53,
   "metadata": {},
   "outputs": [
    {
     "data": {
      "text/plain": [
       "time.struct_time(tm_year=2020, tm_mon=7, tm_mday=23, tm_hour=16, tm_min=14, tm_sec=17, tm_wday=3, tm_yday=205, tm_isdst=0)"
      ]
     },
     "execution_count": 53,
     "metadata": {},
     "output_type": "execute_result"
    }
   ],
   "source": [
    "# 53.浮点数转时间结构体\n",
    "local_time = time.localtime(second)\n",
    "local_time"
   ]
  },
  {
   "cell_type": "code",
   "execution_count": 54,
   "metadata": {},
   "outputs": [
    {
     "data": {
      "text/plain": [
       "'Thu Jul 23 16:14:17 2020'"
      ]
     },
     "execution_count": 54,
     "metadata": {},
     "output_type": "execute_result"
    }
   ],
   "source": [
    "# 54.时间结构体转时间字符串\n",
    "time.asctime(local_time)"
   ]
  },
  {
   "cell_type": "code",
   "execution_count": 55,
   "metadata": {},
   "outputs": [
    {
     "data": {
      "text/plain": [
       "'2020.07.23 16:14:17'"
      ]
     },
     "execution_count": 55,
     "metadata": {},
     "output_type": "execute_result"
    }
   ],
   "source": [
    "# 55.时间结构体转指定格式时间字符串\n",
    "format_time = time.strftime('%Y.%m.%d %H:%M:%S', local_time)\n",
    "format_time"
   ]
  },
  {
   "cell_type": "code",
   "execution_count": 56,
   "metadata": {},
   "outputs": [
    {
     "data": {
      "text/plain": [
       "time.struct_time(tm_year=2020, tm_mon=7, tm_mday=23, tm_hour=16, tm_min=14, tm_sec=17, tm_wday=3, tm_yday=205, tm_isdst=-1)"
      ]
     },
     "execution_count": 56,
     "metadata": {},
     "output_type": "execute_result"
    }
   ],
   "source": [
    "# 56.时间字符串转时间结构体\n",
    "time.strptime(format_time, '%Y.%m.%d %H:%M:%S')"
   ]
  },
  {
   "cell_type": "code",
   "execution_count": 57,
   "metadata": {},
   "outputs": [
    {
     "name": "stdout",
     "output_type": "stream",
     "text": [
      "                                  2020\n",
      "\n",
      "      January                   February                   March\n",
      "Mo Tu We Th Fr Sa Su      Mo Tu We Th Fr Sa Su      Mo Tu We Th Fr Sa Su\n",
      "       1  2  3  4  5                      1  2                         1\n",
      " 6  7  8  9 10 11 12       3  4  5  6  7  8  9       2  3  4  5  6  7  8\n",
      "13 14 15 16 17 18 19      10 11 12 13 14 15 16       9 10 11 12 13 14 15\n",
      "20 21 22 23 24 25 26      17 18 19 20 21 22 23      16 17 18 19 20 21 22\n",
      "27 28 29 30 31            24 25 26 27 28 29         23 24 25 26 27 28 29\n",
      "                                                    30 31\n",
      "\n",
      "       April                      May                       June\n",
      "Mo Tu We Th Fr Sa Su      Mo Tu We Th Fr Sa Su      Mo Tu We Th Fr Sa Su\n",
      "       1  2  3  4  5                   1  2  3       1  2  3  4  5  6  7\n",
      " 6  7  8  9 10 11 12       4  5  6  7  8  9 10       8  9 10 11 12 13 14\n",
      "13 14 15 16 17 18 19      11 12 13 14 15 16 17      15 16 17 18 19 20 21\n",
      "20 21 22 23 24 25 26      18 19 20 21 22 23 24      22 23 24 25 26 27 28\n",
      "27 28 29 30               25 26 27 28 29 30 31      29 30\n",
      "\n",
      "        July                     August                  September\n",
      "Mo Tu We Th Fr Sa Su      Mo Tu We Th Fr Sa Su      Mo Tu We Th Fr Sa Su\n",
      "       1  2  3  4  5                      1  2          1  2  3  4  5  6\n",
      " 6  7  8  9 10 11 12       3  4  5  6  7  8  9       7  8  9 10 11 12 13\n",
      "13 14 15 16 17 18 19      10 11 12 13 14 15 16      14 15 16 17 18 19 20\n",
      "20 21 22 23 24 25 26      17 18 19 20 21 22 23      21 22 23 24 25 26 27\n",
      "27 28 29 30 31            24 25 26 27 28 29 30      28 29 30\n",
      "                          31\n",
      "\n",
      "      October                   November                  December\n",
      "Mo Tu We Th Fr Sa Su      Mo Tu We Th Fr Sa Su      Mo Tu We Th Fr Sa Su\n",
      "          1  2  3  4                         1          1  2  3  4  5  6\n",
      " 5  6  7  8  9 10 11       2  3  4  5  6  7  8       7  8  9 10 11 12 13\n",
      "12 13 14 15 16 17 18       9 10 11 12 13 14 15      14 15 16 17 18 19 20\n",
      "19 20 21 22 23 24 25      16 17 18 19 20 21 22      21 22 23 24 25 26 27\n",
      "26 27 28 29 30 31         23 24 25 26 27 28 29      28 29 30 31\n",
      "                          30\n",
      "\n"
     ]
    }
   ],
   "source": [
    "# 57.年的日历图\n",
    "import calendar\n",
    "\n",
    "for s in calendar.calendar(2020).split('\\n'):\n",
    "    print(s)"
   ]
  },
  {
   "cell_type": "code",
   "execution_count": 58,
   "metadata": {},
   "outputs": [
    {
     "name": "stdout",
     "output_type": "stream",
     "text": [
      "     July 2020\n",
      "Mo Tu We Th Fr Sa Su\n",
      "       1  2  3  4  5\n",
      " 6  7  8  9 10 11 12\n",
      "13 14 15 16 17 18 19\n",
      "20 21 22 23 24 25 26\n",
      "27 28 29 30 31\n",
      "\n"
     ]
    }
   ],
   "source": [
    "# 58.月的日历图\n",
    "import calendar\n",
    "from datetime import date\n",
    "\n",
    "today = date.today()\n",
    "for s in calendar.month(today.year, today.month).split('\\n'):\n",
    "    print(s)"
   ]
  },
  {
   "cell_type": "code",
   "execution_count": 59,
   "metadata": {},
   "outputs": [
    {
     "data": {
      "text/plain": [
       "'2020是闰年'"
      ]
     },
     "execution_count": 59,
     "metadata": {},
     "output_type": "execute_result"
    }
   ],
   "source": [
    "# 59.判断是否为闰年\n",
    "import calendar\n",
    "from datetime import date\n",
    "\n",
    "today = date.today()\n",
    "is_leap = calendar.isleap(today.year)\n",
    "('{}是闰年' if is_leap else '{}不是闰年').format(today.year)"
   ]
  },
  {
   "cell_type": "code",
   "execution_count": 60,
   "metadata": {},
   "outputs": [
    {
     "name": "stdout",
     "output_type": "stream",
     "text": [
      "hello world.\n"
     ]
    }
   ],
   "source": [
    "# 60.with 读写文件\n",
    "import os\n",
    "\n",
    "with open('newfile.txt', mode='r', encoding='utf-8') as fr:\n",
    "    print(fr.read())"
   ]
  },
  {
   "cell_type": "code",
   "execution_count": 61,
   "metadata": {},
   "outputs": [
    {
     "data": {
      "text/plain": [
       "('C:/Users/Administrator/python/newfile', '.txt')"
      ]
     },
     "execution_count": 61,
     "metadata": {},
     "output_type": "execute_result"
    }
   ],
   "source": [
    "# 61.提取文件后缀名\n",
    "import os\n",
    "\n",
    "os.path.splitext('C:/Users/Administrator/python/newfile.txt')"
   ]
  },
  {
   "cell_type": "code",
   "execution_count": 62,
   "metadata": {},
   "outputs": [
    {
     "data": {
      "text/plain": [
       "('C:/Users/Administrator/python', 'newfile.txt')"
      ]
     },
     "execution_count": 62,
     "metadata": {},
     "output_type": "execute_result"
    }
   ],
   "source": [
    "# 62.提取完整的文件名\n",
    "import os\n",
    "\n",
    "os.path.split('C:/Users/Administrator/python/newfile.txt')"
   ]
  },
  {
   "cell_type": "markdown",
   "metadata": {},
   "source": [
    "# 二、Python 核心 12 例"
   ]
  },
  {
   "cell_type": "code",
   "execution_count": 63,
   "metadata": {},
   "outputs": [
    {
     "name": "stdout",
     "output_type": "stream",
     "text": [
      "1\n",
      "1\n",
      "2\n",
      "3\n",
      "5\n",
      "8\n",
      "13\n",
      "21\n",
      "34\n",
      "55\n"
     ]
    }
   ],
   "source": [
    "# 63.斐波那契数列前n项\n",
    "def fib(n):\n",
    "    a, b = 1, 1\n",
    "    for _ in range(n):\n",
    "        yield a\n",
    "        a, b = b, a + b\n",
    "        \n",
    "        \n",
    "for f in fib(10):\n",
    "    print(f)"
   ]
  },
  {
   "cell_type": "code",
   "execution_count": 64,
   "metadata": {},
   "outputs": [
    {
     "name": "stdout",
     "output_type": "stream",
     "text": [
      "[1, 2, 3]\n",
      "[4, 5]\n"
     ]
    }
   ],
   "source": [
    "# 64.list 等分n组\n",
    "from math import ceil\n",
    "\n",
    "def divide_iter(L, n):\n",
    "    if n <= 0:\n",
    "        yield L\n",
    "        return\n",
    "    i, div = 0, ceil(len(L) / n)\n",
    "    while i < n:\n",
    "        yield L[i * div: (i + 1) * div]\n",
    "        i += 1\n",
    "        \n",
    "        \n",
    "for group in divide_iter([1, 2, 3, 4, 5], 2):\n",
    "    print(group)"
   ]
  },
  {
   "cell_type": "code",
   "execution_count": 65,
   "metadata": {},
   "outputs": [
    {
     "name": "stdout",
     "output_type": "stream",
     "text": [
      "2\n",
      "1\n",
      "0\n"
     ]
    }
   ],
   "source": [
    "# 65.yield 解释\n",
    "def gen_iter(n):\n",
    "    while n > 0:\n",
    "        n -= 1\n",
    "        yield n\n",
    "        \n",
    "    \n",
    "for i in gen_iter(3):\n",
    "    print(i)"
   ]
  },
  {
   "cell_type": "code",
   "execution_count": 66,
   "metadata": {},
   "outputs": [
    {
     "name": "stdout",
     "output_type": "stream",
     "text": [
      "正在调用函数：f1\n",
      "f1 函数执行时长为：1.012004 s.\n"
     ]
    }
   ],
   "source": [
    "# 66.装饰器\n",
    "from functools import wraps\n",
    "import time\n",
    "\n",
    "\n",
    "# 定义装饰器\n",
    "def print_info(func):\n",
    "    @wraps(func)\n",
    "    def info():\n",
    "        print('正在调用函数：%s' % (func.__name__,))\n",
    "        start_time = time.time()\n",
    "        func()\n",
    "        end_time = time.time()\n",
    "        run_time = end_time - start_time\n",
    "        print('%s 函数执行时长为：%f s.' % (func.__name__, run_time))\n",
    "    return info\n",
    "\n",
    "\n",
    "# 使用装饰器\n",
    "@print_info\n",
    "def f1():\n",
    "    time.sleep(1)\n",
    "    \n",
    "\n",
    "f1()"
   ]
  },
  {
   "cell_type": "code",
   "execution_count": 67,
   "metadata": {},
   "outputs": [
    {
     "name": "stdout",
     "output_type": "stream",
     "text": [
      "3\n",
      "4\n",
      "5\n",
      "6\n",
      "7\n"
     ]
    }
   ],
   "source": [
    "# 67.迭代器案例\n",
    "class MyRange():\n",
    "    def __init__(self, start, end):\n",
    "        self.value = start\n",
    "        self.end = end\n",
    "        \n",
    "    # 成为迭代器类型的关键协议\n",
    "    def __iter__(self):\n",
    "        return self\n",
    "    \n",
    "    # 当前迭代器状态（位置）的下一个位置\n",
    "    def __next__(self):\n",
    "        if self.value >= self.end:\n",
    "            raise StopIteration\n",
    "        cur = self.value\n",
    "        self.value += 1\n",
    "        return cur\n",
    "    \n",
    "    \n",
    "nums = MyRange(3, 8)\n",
    "for n in nums:\n",
    "    print(n)"
   ]
  },
  {
   "cell_type": "code",
   "execution_count": 68,
   "metadata": {},
   "outputs": [
    {
     "data": {
      "image/png": "[encoded data removed]",
      "text/plain": [
       "<Figure size 432x288 with 1 Axes>"
      ]
     },
     "metadata": {
      "needs_background": "light"
     },
     "output_type": "display_data"
    }
   ],
   "source": [
    "# 68.matplotlib\n",
    "import random\n",
    "\n",
    "import matplotlib.pyplot as plt\n",
    "\n",
    "plt.plot(['python', 'java', 'php', 'c#'],\n",
    "        [random.randint(60, 100) for _ in range(4)], \n",
    "        c='red')\n",
    "plt.bar(['python', 'java', 'php', 'c#'],\n",
    "        [random.randint(60, 100) for _ in range(4)])\n",
    "plt.show()"
   ]
  },
  {
   "cell_type": "code",
   "execution_count": 69,
   "metadata": {},
   "outputs": [
    {
     "data": {
      "image/png": "[encoded data removed]",
      "text/plain": [
       "<Figure size 432x288 with 1 Axes>"
      ]
     },
     "metadata": {
      "needs_background": "light"
     },
     "output_type": "display_data"
    }
   ],
   "source": [
    "# 69.seaborn\n",
    "import random\n",
    "\n",
    "import seaborn as sns\n",
    "\n",
    "sns.barplot(['python', 'java', 'php', 'c#'],\n",
    "            [random.randint(60, 100) for _ in range(4)])\n",
    "sns.pointplot(['python', 'java', 'php', 'c#'],\n",
    "            [random.randint(60, 100) for _ in range(4)])\n",
    "plt.show()"
   ]
  },
  {
   "cell_type": "code",
   "execution_count": 70,
   "metadata": {},
   "outputs": [
    {
     "data": {
      "text/plain": [
       "'temp-plot.html'"
      ]
     },
     "execution_count": 70,
     "metadata": {},
     "output_type": "execute_result"
    }
   ],
   "source": [
    "# 70.plotly 绘图\n",
    "import random\n",
    "\n",
    "import plotly\n",
    "import plotly.graph_objs as go\n",
    "import plotly.offline as offline\n",
    "\n",
    "pyplt = offline.plot\n",
    "sca = go.Scatter(x=['python', 'java', 'php', 'c#'],\n",
    "                y=[random.randint(60, 100) for _ in range(4)])\n",
    "bar = go.Bar(x=['python', 'java', 'php', 'c#'],\n",
    "                y=[random.randint(60, 100) for _ in range(4)])\n",
    "fig = go.Figure(data = [sca, bar])\n",
    "pyplt(fig)"
   ]
  },
  {
   "cell_type": "code",
   "execution_count": 71,
   "metadata": {},
   "outputs": [
    {
     "data": {
      "text/plain": [
       "'C:\\\\Users\\\\Administrator\\\\python\\\\render.html'"
      ]
     },
     "execution_count": 71,
     "metadata": {},
     "output_type": "execute_result"
    }
   ],
   "source": [
    "# 71.pyecharts\n",
    "import random\n",
    "\n",
    "import pyecharts\n",
    "from pyecharts.charts import Bar, Line\n",
    "\n",
    "bar = (\n",
    "    Bar()\n",
    "    .add_xaxis(['python', 'java', 'php', 'c#'])\n",
    "    .add_yaxis('ybar', [random.randint(60, 100) for _ in range(4)])\n",
    ")\n",
    "line = (\n",
    "    Line()\n",
    "    .add_xaxis(['python', 'java', 'php', 'c#'])\n",
    "    .add_yaxis('ybar', [random.randint(60, 100) for _ in range(4)])\n",
    ")\n",
    "bar.overlap(line)\n",
    "bar.render()"
   ]
  },
  {
   "cell_type": "code",
   "execution_count": 72,
   "metadata": {},
   "outputs": [
    {
     "data": {
      "text/plain": [
       "([<matplotlib.axis.YTick at 0x27bc5cd3448>,\n",
       "  <matplotlib.axis.YTick at 0x27bc5cb3708>,\n",
       "  <matplotlib.axis.YTick at 0x27bc5cd6ac8>],\n",
       " [Text(0, 0, ''), Text(0, 0, ''), Text(0, 0, '')])"
      ]
     },
     "execution_count": 72,
     "metadata": {},
     "output_type": "execute_result"
    },
    {
     "data": {
      "image/png": "[encoded data removed]",
      "text/plain": [
       "<Figure size 432x288 with 1 Axes>"
      ]
     },
     "metadata": {
      "needs_background": "light"
     },
     "output_type": "display_data"
    }
   ],
   "source": [
    "# 72.理解 meshgrid\n",
    "import numpy as np\n",
    "import matplotlib.pyplot as plt\n",
    "\n",
    "nx, ny = (5, 3)\n",
    "x = np.linspace(0, 1, nx)\n",
    "y = np.linspace(0, 1, ny)\n",
    "xv, yv = np.meshgrid(x, y)\n",
    "\n",
    "plt.scatter(xv.flatten(), yv.flatten(), c='red')\n",
    "plt.xticks(ticks=x)\n",
    "plt.yticks(ticks=y)"
   ]
  },
  {
   "cell_type": "code",
   "execution_count": 73,
   "metadata": {},
   "outputs": [
    {
     "data": {
      "image/png": "[encoded data removed]",
      "text/plain": [
       "<Figure size 432x288 with 1 Axes>"
      ]
     },
     "metadata": {
      "needs_background": "light"
     },
     "output_type": "display_data"
    }
   ],
   "source": [
    "# 73.绘制曲面图\n",
    "from mpl_toolkits.mplot3d import Axes3D\n",
    "\n",
    "x = np.arange(-5, 5, 0.25)\n",
    "y = np.arange(-5, 5, 0.25)\n",
    "X, Y = np.meshgrid(x, y)\n",
    "R = np.sqrt(X ** 2 + Y ** 2)\n",
    "Z = np.sin(R)\n",
    "\n",
    "fig = plt.figure()\n",
    "ax = Axes3D(fig)\n",
    "plt.xticks(ticks=np.arange(-5, 6))\n",
    "plt.yticks(ticks=np.arange(-5, 6))\n",
    "ax.plot_surface(X, Y, Z, cmap=plt.get_cmap('rainbow'))\n",
    "plt.show()"
   ]
  },
  {
   "cell_type": "code",
   "execution_count": 74,
   "metadata": {},
   "outputs": [
    {
     "data": {
      "image/png": "[encoded data removed]",
      "text/plain": [
       "<Figure size 432x288 with 1 Axes>"
      ]
     },
     "metadata": {
      "needs_background": "light"
     },
     "output_type": "display_data"
    }
   ],
   "source": [
    "# 74.等高线图\n",
    "fig = plt.figure()\n",
    "ax = Axes3D(fig)\n",
    "plt.xticks(ticks=np.arange(-5, 6))\n",
    "plt.yticks(ticks=np.arange(-5, 6))\n",
    "ax.contourf(X, Y, Z, zdir='z', offset=-1, cmap=plt.get_cmap('rainbow'))\n",
    "plt.show()"
   ]
  },
  {
   "cell_type": "markdown",
   "metadata": {},
   "source": [
    "# 三、Python 习惯 26 例"
   ]
  },
  {
   "cell_type": "code",
   "execution_count": 75,
   "metadata": {},
   "outputs": [
    {
     "data": {
      "text/plain": [
       "1.6"
      ]
     },
     "execution_count": 75,
     "metadata": {},
     "output_type": "execute_result"
    }
   ],
   "source": [
    "# 75。/ 返回浮点数\n",
    "8 / 5"
   ]
  },
  {
   "cell_type": "code",
   "execution_count": 76,
   "metadata": {},
   "outputs": [
    {
     "data": {
      "text/plain": [
       "1"
      ]
     },
     "execution_count": 76,
     "metadata": {},
     "output_type": "execute_result"
    }
   ],
   "source": [
    "# 76.// 得到整数部分\n",
    "8 // 5"
   ]
  },
  {
   "cell_type": "code",
   "execution_count": 77,
   "metadata": {},
   "outputs": [
    {
     "data": {
      "text/plain": [
       "3"
      ]
     },
     "execution_count": 77,
     "metadata": {},
     "output_type": "execute_result"
    }
   ],
   "source": [
    "# 77.% 得到余数\n",
    "8 % 5"
   ]
  },
  {
   "cell_type": "code",
   "execution_count": 78,
   "metadata": {},
   "outputs": [
    {
     "data": {
      "text/plain": [
       "8"
      ]
     },
     "execution_count": 78,
     "metadata": {},
     "output_type": "execute_result"
    }
   ],
   "source": [
    "# 78.** 计算乘方\n",
    "2 ** 3"
   ]
  },
  {
   "cell_type": "code",
   "execution_count": 79,
   "metadata": {},
   "outputs": [
    {
     "data": {
      "text/plain": [
       "9"
      ]
     },
     "execution_count": 79,
     "metadata": {},
     "output_type": "execute_result"
    }
   ],
   "source": [
    "# 79.交互模式下的 _\n",
    "1 + _"
   ]
  },
  {
   "cell_type": "code",
   "execution_count": 80,
   "metadata": {},
   "outputs": [
    {
     "name": "stdout",
     "output_type": "stream",
     "text": [
      "I'm a boy.\n"
     ]
    }
   ],
   "source": [
    "# 80.单引号和双引号微妙不同\n",
    "print(\"I'm a boy.\")"
   ]
  },
  {
   "cell_type": "code",
   "execution_count": 81,
   "metadata": {},
   "outputs": [
    {
     "name": "stdout",
     "output_type": "stream",
     "text": [
      "\n",
      "I'm a boy.\n",
      "Age 20.\n",
      "\n"
     ]
    }
   ],
   "source": [
    "# 81.跨行连续输入 \"\"\" 或 '''\n",
    "print(\"\"\"\n",
    "I'm a boy.\n",
    "Age 20.\n",
    "\"\"\")"
   ]
  },
  {
   "cell_type": "code",
   "execution_count": 82,
   "metadata": {},
   "outputs": [
    {
     "data": {
      "text/plain": [
       "'hihihi'"
      ]
     },
     "execution_count": 82,
     "metadata": {},
     "output_type": "execute_result"
    }
   ],
   "source": [
    "# 82.数字和字符串\n",
    "3 * 'hi'"
   ]
  },
  {
   "cell_type": "code",
   "execution_count": 83,
   "metadata": {},
   "outputs": [
    {
     "data": {
      "text/plain": [
       "'python'"
      ]
     },
     "execution_count": 83,
     "metadata": {},
     "output_type": "execute_result"
    }
   ],
   "source": [
    "# 83.连续字面值\n",
    "'py''th''on'"
   ]
  },
  {
   "cell_type": "code",
   "execution_count": 84,
   "metadata": {},
   "outputs": [
    {
     "name": "stdout",
     "output_type": "stream",
     "text": [
      "第1轮遍历结果\n",
      "0\n",
      "第2轮遍历结果\n",
      "0\n",
      "1\n",
      "第3轮遍历结果\n"
     ]
    }
   ],
   "source": [
    "# 84.for 和 else\n",
    "for i in range(3):\n",
    "    for j in range(i):\n",
    "        print(j)\n",
    "    else:\n",
    "        print('第%d轮遍历结果' % (i + 1))"
   ]
  },
  {
   "cell_type": "code",
   "execution_count": 85,
   "metadata": {},
   "outputs": [
    {
     "name": "stdout",
     "output_type": "stream",
     "text": [
      "x is not empty.\n"
     ]
    }
   ],
   "source": [
    "# 85.if not x\n",
    "x = [1, 3, 5]\n",
    "if x:\n",
    "    print('x is not empty.')\n",
    "if not x:\n",
    "    print('x is empty.')"
   ]
  },
  {
   "cell_type": "code",
   "execution_count": 86,
   "metadata": {},
   "outputs": [
    {
     "name": "stdout",
     "output_type": "stream",
     "text": [
      "10 1\n",
      "11 3\n",
      "12 5\n"
     ]
    }
   ],
   "source": [
    "# 86.enumerate 枚举 - 第二个参数表示索引的起始值\n",
    "x = [1, 3, 5]\n",
    "for i, e in enumerate(x, 10):\n",
    "    print(i, e)"
   ]
  },
  {
   "cell_type": "code",
   "execution_count": 87,
   "metadata": {},
   "outputs": [
    {
     "data": {
      "text/plain": [
       "True"
      ]
     },
     "execution_count": 87,
     "metadata": {},
     "output_type": "execute_result"
    }
   ],
   "source": [
    "# 87.in - 判断字符串是否包含某个子串\n",
    "s = 'luo xiao hei'\n",
    "'luo' in s"
   ]
  },
  {
   "cell_type": "code",
   "execution_count": 88,
   "metadata": {},
   "outputs": [
    {
     "name": "stdout",
     "output_type": "stream",
     "text": [
      "a 1\n",
      "b 2\n",
      "c 3\n"
     ]
    }
   ],
   "source": [
    "# 88.zip 打包\n",
    "keys = ['a', 'b', 'c']\n",
    "values = [1, 2, 3]\n",
    "\n",
    "for k, v in zip(keys, values):\n",
    "    print(k, v)"
   ]
  },
  {
   "cell_type": "code",
   "execution_count": 89,
   "metadata": {},
   "outputs": [
    {
     "name": "stdout",
     "output_type": "stream",
     "text": [
      "\n",
      "I love python.\n",
      "I love you too.\n",
      "\n"
     ]
    }
   ],
   "source": [
    "# 89.一对 ''' 或 \"\"\"\n",
    "print('''\n",
    "I love python.\n",
    "I love you too.\n",
    "''')"
   ]
  },
  {
   "cell_type": "code",
   "execution_count": 90,
   "metadata": {},
   "outputs": [
    {
     "name": "stdout",
     "output_type": "stream",
     "text": [
      "4 3\n"
     ]
    }
   ],
   "source": [
    "# 90.交换元素\n",
    "a, b = 3, 4\n",
    "a, b = b, a\n",
    "print(a, b)"
   ]
  },
  {
   "cell_type": "code",
   "execution_count": 91,
   "metadata": {},
   "outputs": [
    {
     "name": "stdout",
     "output_type": "stream",
     "text": [
      "python\n"
     ]
    }
   ],
   "source": [
    "# 91.join 串联\n",
    "chars = ['p', 'y', 't', 'h', 'o', 'n']\n",
    "print(''.join(chars))"
   ]
  },
  {
   "cell_type": "code",
   "execution_count": 92,
   "metadata": {},
   "outputs": [
    {
     "name": "stdout",
     "output_type": "stream",
     "text": [
      "[2, 6, 10]\n"
     ]
    }
   ],
   "source": [
    "# 92.列表生成式\n",
    "data = [1, 2, 3, 4, 5]\n",
    "res = [i * 2 for i in data if i & 1]  # 奇数则乘以2\n",
    "print(res)"
   ]
  },
  {
   "cell_type": "code",
   "execution_count": 93,
   "metadata": {},
   "outputs": [
    {
     "name": "stdout",
     "output_type": "stream",
     "text": [
      "{'a': 1, 'b': 3, 'c': 5}\n"
     ]
    }
   ],
   "source": [
    "# 93.字典生成式\n",
    "keys = ['a', 'b', 'c']\n",
    "values = [1, 3, 5]\n",
    "\n",
    "d = {k: v for k, v in zip(keys, values)}\n",
    "print(d)"
   ]
  },
  {
   "cell_type": "code",
   "execution_count": 94,
   "metadata": {},
   "outputs": [],
   "source": [
    "# 94.__name__ == '__main__' 作用\n",
    "# 只有在当前文件运行时才会运行，而被导包时不会运行"
   ]
  },
  {
   "cell_type": "code",
   "execution_count": 95,
   "metadata": {},
   "outputs": [
    {
     "data": {
      "text/plain": [
       "3"
      ]
     },
     "metadata": {},
     "output_type": "display_data"
    },
    {
     "data": {
      "text/plain": [
       "[]"
      ]
     },
     "metadata": {},
     "output_type": "display_data"
    }
   ],
   "source": [
    "# 95.字典默认值\n",
    "d = {'a': 1, 'b': 3}\n",
    "r1 = d.get('b', [])\n",
    "r2 = d.get('c', [])\n",
    "\n",
    "display(r1, r2)"
   ]
  },
  {
   "cell_type": "code",
   "execution_count": 96,
   "metadata": {},
   "outputs": [
    {
     "name": "stdout",
     "output_type": "stream",
     "text": [
      "-3\n"
     ]
    }
   ],
   "source": [
    "# 96.lambda 函数\n",
    "x = [1, 2, -3]\n",
    "y = max(x, key=lambda x: abs(x))\n",
    "print(y)"
   ]
  },
  {
   "cell_type": "code",
   "execution_count": 97,
   "metadata": {},
   "outputs": [
    {
     "name": "stdout",
     "output_type": "stream",
     "text": [
      "3\n"
     ]
    }
   ],
   "source": [
    "# 97.max - 返回最大值\n",
    "x = [1, 2, 3]\n",
    "print(max(x))"
   ]
  },
  {
   "cell_type": "code",
   "execution_count": 98,
   "metadata": {},
   "outputs": [
    {
     "name": "stdout",
     "output_type": "stream",
     "text": [
      "1 <class 'str'>\n",
      "2 <class 'str'>\n",
      "3 <class 'str'>\n"
     ]
    }
   ],
   "source": [
    "# 98.map - 函数映射 func 到容器中的每一个元素，并返回迭代器\n",
    "x = map(str, [1, 2, 3])\n",
    "for s in x:\n",
    "    print(s, type(s))"
   ]
  },
  {
   "cell_type": "code",
   "execution_count": 99,
   "metadata": {},
   "outputs": [
    {
     "name": "stdout",
     "output_type": "stream",
     "text": [
      "6\n"
     ]
    }
   ],
   "source": [
    "# 99.reduce\n",
    "from functools import reduce\n",
    "\n",
    "x = [1, 2, 3]\n",
    "y = reduce(lambda x1, x2: x1 * x2, x)\n",
    "print(y)"
   ]
  },
  {
   "cell_type": "code",
   "execution_count": 100,
   "metadata": {},
   "outputs": [
    {
     "name": "stdout",
     "output_type": "stream",
     "text": [
      "1\n",
      "3\n",
      "5\n"
     ]
    }
   ],
   "source": [
    "# 100.filter\n",
    "x = [1, 2, 3, 4, 5]\n",
    "odd = filter(lambda i: i % 2, x)\n",
    "for i in odd:\n",
    "    print(i)"
   ]
  }
 ],
 "metadata": {
  "kernelspec": {
   "display_name": "Python 3",
   "language": "python",
   "name": "python3"
  },
  "language_info": {
   "codemirror_mode": {
    "name": "ipython",
    "version": 3
   },
   "file_extension": ".py",
   "mimetype": "text/x-python",
   "name": "python",
   "nbconvert_exporter": "python",
   "pygments_lexer": "ipython3",
   "version": "3.7.8"
  }
 },
 "nbformat": 4,
 "nbformat_minor": 4
}
